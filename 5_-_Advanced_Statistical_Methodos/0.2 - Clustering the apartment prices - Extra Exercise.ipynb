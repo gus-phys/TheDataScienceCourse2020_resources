{
 "cells": [
  {
   "cell_type": "markdown",
   "metadata": {},
   "source": [
    "## Import the relevant libraries"
   ]
  },
  {
   "cell_type": "code",
   "execution_count": 1,
   "metadata": {},
   "outputs": [],
   "source": [
    "import numpy as np\n",
    "import pandas as pd\n",
    "import matplotlib.pyplot as plt\n",
    "import seaborn as sns\n",
    "sns.set()\n",
    "\n",
    "from sklearn.linear_model import LinearRegression"
   ]
  },
  {
   "cell_type": "code",
   "execution_count": 2,
   "metadata": {},
   "outputs": [
    {
     "data": {
      "text/html": [
       "<div>\n",
       "<style scoped>\n",
       "    .dataframe tbody tr th:only-of-type {\n",
       "        vertical-align: middle;\n",
       "    }\n",
       "\n",
       "    .dataframe tbody tr th {\n",
       "        vertical-align: top;\n",
       "    }\n",
       "\n",
       "    .dataframe thead th {\n",
       "        text-align: right;\n",
       "    }\n",
       "</style>\n",
       "<table border=\"1\" class=\"dataframe\">\n",
       "  <thead>\n",
       "    <tr style=\"text-align: right;\">\n",
       "      <th></th>\n",
       "      <th>price</th>\n",
       "      <th>size</th>\n",
       "      <th>year</th>\n",
       "    </tr>\n",
       "  </thead>\n",
       "  <tbody>\n",
       "    <tr>\n",
       "      <th>0</th>\n",
       "      <td>234314.144</td>\n",
       "      <td>643.09</td>\n",
       "      <td>2015</td>\n",
       "    </tr>\n",
       "    <tr>\n",
       "      <th>1</th>\n",
       "      <td>228581.528</td>\n",
       "      <td>656.22</td>\n",
       "      <td>2009</td>\n",
       "    </tr>\n",
       "    <tr>\n",
       "      <th>2</th>\n",
       "      <td>281626.336</td>\n",
       "      <td>487.29</td>\n",
       "      <td>2018</td>\n",
       "    </tr>\n",
       "    <tr>\n",
       "      <th>3</th>\n",
       "      <td>401255.608</td>\n",
       "      <td>1504.75</td>\n",
       "      <td>2015</td>\n",
       "    </tr>\n",
       "    <tr>\n",
       "      <th>4</th>\n",
       "      <td>458674.256</td>\n",
       "      <td>1275.46</td>\n",
       "      <td>2009</td>\n",
       "    </tr>\n",
       "    <tr>\n",
       "      <th>...</th>\n",
       "      <td>...</td>\n",
       "      <td>...</td>\n",
       "      <td>...</td>\n",
       "    </tr>\n",
       "    <tr>\n",
       "      <th>95</th>\n",
       "      <td>252460.400</td>\n",
       "      <td>549.80</td>\n",
       "      <td>2009</td>\n",
       "    </tr>\n",
       "    <tr>\n",
       "      <th>96</th>\n",
       "      <td>310522.592</td>\n",
       "      <td>1037.44</td>\n",
       "      <td>2009</td>\n",
       "    </tr>\n",
       "    <tr>\n",
       "      <th>97</th>\n",
       "      <td>383635.568</td>\n",
       "      <td>1504.75</td>\n",
       "      <td>2006</td>\n",
       "    </tr>\n",
       "    <tr>\n",
       "      <th>98</th>\n",
       "      <td>225145.248</td>\n",
       "      <td>648.29</td>\n",
       "      <td>2015</td>\n",
       "    </tr>\n",
       "    <tr>\n",
       "      <th>99</th>\n",
       "      <td>274922.856</td>\n",
       "      <td>705.29</td>\n",
       "      <td>2006</td>\n",
       "    </tr>\n",
       "  </tbody>\n",
       "</table>\n",
       "<p>100 rows × 3 columns</p>\n",
       "</div>"
      ],
      "text/plain": [
       "         price     size  year\n",
       "0   234314.144   643.09  2015\n",
       "1   228581.528   656.22  2009\n",
       "2   281626.336   487.29  2018\n",
       "3   401255.608  1504.75  2015\n",
       "4   458674.256  1275.46  2009\n",
       "..         ...      ...   ...\n",
       "95  252460.400   549.80  2009\n",
       "96  310522.592  1037.44  2009\n",
       "97  383635.568  1504.75  2006\n",
       "98  225145.248   648.29  2015\n",
       "99  274922.856   705.29  2006\n",
       "\n",
       "[100 rows x 3 columns]"
      ]
     },
     "execution_count": 2,
     "metadata": {},
     "output_type": "execute_result"
    }
   ],
   "source": [
    "data = pd.read_csv('datasets/real_estate_price_size_year.csv')\n",
    "data"
   ]
  },
  {
   "cell_type": "code",
   "execution_count": 3,
   "metadata": {},
   "outputs": [
    {
     "data": {
      "text/html": [
       "<div>\n",
       "<style scoped>\n",
       "    .dataframe tbody tr th:only-of-type {\n",
       "        vertical-align: middle;\n",
       "    }\n",
       "\n",
       "    .dataframe tbody tr th {\n",
       "        vertical-align: top;\n",
       "    }\n",
       "\n",
       "    .dataframe thead th {\n",
       "        text-align: right;\n",
       "    }\n",
       "</style>\n",
       "<table border=\"1\" class=\"dataframe\">\n",
       "  <thead>\n",
       "    <tr style=\"text-align: right;\">\n",
       "      <th></th>\n",
       "      <th>price</th>\n",
       "      <th>size</th>\n",
       "      <th>year</th>\n",
       "    </tr>\n",
       "  </thead>\n",
       "  <tbody>\n",
       "    <tr>\n",
       "      <th>count</th>\n",
       "      <td>100.000000</td>\n",
       "      <td>100.000000</td>\n",
       "      <td>100.000000</td>\n",
       "    </tr>\n",
       "    <tr>\n",
       "      <th>mean</th>\n",
       "      <td>292289.470160</td>\n",
       "      <td>853.024200</td>\n",
       "      <td>2012.600000</td>\n",
       "    </tr>\n",
       "    <tr>\n",
       "      <th>std</th>\n",
       "      <td>77051.727525</td>\n",
       "      <td>297.941951</td>\n",
       "      <td>4.729021</td>\n",
       "    </tr>\n",
       "    <tr>\n",
       "      <th>min</th>\n",
       "      <td>154282.128000</td>\n",
       "      <td>479.750000</td>\n",
       "      <td>2006.000000</td>\n",
       "    </tr>\n",
       "    <tr>\n",
       "      <th>25%</th>\n",
       "      <td>234280.148000</td>\n",
       "      <td>643.330000</td>\n",
       "      <td>2009.000000</td>\n",
       "    </tr>\n",
       "    <tr>\n",
       "      <th>50%</th>\n",
       "      <td>280590.716000</td>\n",
       "      <td>696.405000</td>\n",
       "      <td>2015.000000</td>\n",
       "    </tr>\n",
       "    <tr>\n",
       "      <th>75%</th>\n",
       "      <td>335723.696000</td>\n",
       "      <td>1029.322500</td>\n",
       "      <td>2018.000000</td>\n",
       "    </tr>\n",
       "    <tr>\n",
       "      <th>max</th>\n",
       "      <td>500681.128000</td>\n",
       "      <td>1842.510000</td>\n",
       "      <td>2018.000000</td>\n",
       "    </tr>\n",
       "  </tbody>\n",
       "</table>\n",
       "</div>"
      ],
      "text/plain": [
       "               price         size         year\n",
       "count     100.000000   100.000000   100.000000\n",
       "mean   292289.470160   853.024200  2012.600000\n",
       "std     77051.727525   297.941951     4.729021\n",
       "min    154282.128000   479.750000  2006.000000\n",
       "25%    234280.148000   643.330000  2009.000000\n",
       "50%    280590.716000   696.405000  2015.000000\n",
       "75%    335723.696000  1029.322500  2018.000000\n",
       "max    500681.128000  1842.510000  2018.000000"
      ]
     },
     "execution_count": 3,
     "metadata": {},
     "output_type": "execute_result"
    }
   ],
   "source": [
    "data.describe()"
   ]
  },
  {
   "cell_type": "code",
   "execution_count": 4,
   "metadata": {},
   "outputs": [
    {
     "data": {
      "text/html": [
       "<div>\n",
       "<style scoped>\n",
       "    .dataframe tbody tr th:only-of-type {\n",
       "        vertical-align: middle;\n",
       "    }\n",
       "\n",
       "    .dataframe tbody tr th {\n",
       "        vertical-align: top;\n",
       "    }\n",
       "\n",
       "    .dataframe thead th {\n",
       "        text-align: right;\n",
       "    }\n",
       "</style>\n",
       "<table border=\"1\" class=\"dataframe\">\n",
       "  <thead>\n",
       "    <tr style=\"text-align: right;\">\n",
       "      <th></th>\n",
       "      <th>price</th>\n",
       "      <th>size</th>\n",
       "      <th>year</th>\n",
       "    </tr>\n",
       "  </thead>\n",
       "  <tbody>\n",
       "    <tr>\n",
       "      <th>0</th>\n",
       "      <td>234314.144</td>\n",
       "      <td>643.09</td>\n",
       "      <td>2015</td>\n",
       "    </tr>\n",
       "    <tr>\n",
       "      <th>1</th>\n",
       "      <td>228581.528</td>\n",
       "      <td>656.22</td>\n",
       "      <td>2009</td>\n",
       "    </tr>\n",
       "    <tr>\n",
       "      <th>2</th>\n",
       "      <td>281626.336</td>\n",
       "      <td>487.29</td>\n",
       "      <td>2018</td>\n",
       "    </tr>\n",
       "    <tr>\n",
       "      <th>3</th>\n",
       "      <td>401255.608</td>\n",
       "      <td>1504.75</td>\n",
       "      <td>2015</td>\n",
       "    </tr>\n",
       "    <tr>\n",
       "      <th>4</th>\n",
       "      <td>458674.256</td>\n",
       "      <td>1275.46</td>\n",
       "      <td>2009</td>\n",
       "    </tr>\n",
       "    <tr>\n",
       "      <th>...</th>\n",
       "      <td>...</td>\n",
       "      <td>...</td>\n",
       "      <td>...</td>\n",
       "    </tr>\n",
       "    <tr>\n",
       "      <th>95</th>\n",
       "      <td>252460.400</td>\n",
       "      <td>549.80</td>\n",
       "      <td>2009</td>\n",
       "    </tr>\n",
       "    <tr>\n",
       "      <th>96</th>\n",
       "      <td>310522.592</td>\n",
       "      <td>1037.44</td>\n",
       "      <td>2009</td>\n",
       "    </tr>\n",
       "    <tr>\n",
       "      <th>97</th>\n",
       "      <td>383635.568</td>\n",
       "      <td>1504.75</td>\n",
       "      <td>2006</td>\n",
       "    </tr>\n",
       "    <tr>\n",
       "      <th>98</th>\n",
       "      <td>225145.248</td>\n",
       "      <td>648.29</td>\n",
       "      <td>2015</td>\n",
       "    </tr>\n",
       "    <tr>\n",
       "      <th>99</th>\n",
       "      <td>274922.856</td>\n",
       "      <td>705.29</td>\n",
       "      <td>2006</td>\n",
       "    </tr>\n",
       "  </tbody>\n",
       "</table>\n",
       "<p>100 rows × 3 columns</p>\n",
       "</div>"
      ],
      "text/plain": [
       "         price     size  year\n",
       "0   234314.144   643.09  2015\n",
       "1   228581.528   656.22  2009\n",
       "2   281626.336   487.29  2018\n",
       "3   401255.608  1504.75  2015\n",
       "4   458674.256  1275.46  2009\n",
       "..         ...      ...   ...\n",
       "95  252460.400   549.80  2009\n",
       "96  310522.592  1037.44  2009\n",
       "97  383635.568  1504.75  2006\n",
       "98  225145.248   648.29  2015\n",
       "99  274922.856   705.29  2006\n",
       "\n",
       "[100 rows x 3 columns]"
      ]
     },
     "execution_count": 4,
     "metadata": {},
     "output_type": "execute_result"
    }
   ],
   "source": [
    "x_size = data.iloc[:,0:3]\n",
    "x_size"
   ]
  },
  {
   "cell_type": "markdown",
   "metadata": {},
   "source": [
    "## Scaling"
   ]
  },
  {
   "cell_type": "code",
   "execution_count": 5,
   "metadata": {},
   "outputs": [
    {
     "data": {
      "text/plain": [
       "array([[-0.75621141, -0.70816415,  0.51006137],\n",
       "       [-0.83098579, -0.66387316, -0.76509206],\n",
       "       [-0.13908647, -1.23371919,  1.14763808],\n",
       "       [ 1.42131906,  2.19844528,  0.51006137],\n",
       "       [ 2.17026934,  1.42498884, -0.76509206],\n",
       "       [-0.61617272, -0.937209  , -1.40266877],\n",
       "       [-0.35427155, -0.95171405,  0.51006137],\n",
       "       [-1.52054038, -0.78328682, -1.40266877],\n",
       "       [ 0.50624953, -0.57603328,  1.14763808],\n",
       "       [-0.96078238, -0.53467702, -0.76509206],\n",
       "       [-0.16610306,  0.69939906, -0.76509206],\n",
       "       [ 2.64120784,  3.33780001, -0.76509206],\n",
       "       [-1.00198088, -0.53467702,  0.51006137],\n",
       "       [ 1.64954949,  0.52699137,  1.14763808],\n",
       "       [ 1.98136758,  1.51100715, -1.40266877],\n",
       "       [ 1.9293182 ,  1.77668568, -1.40266877],\n",
       "       [-0.57329398, -0.54810263,  1.14763808],\n",
       "       [-0.75798514, -0.77276222, -1.40266877],\n",
       "       [-0.87180655, -0.58004747, -1.40266877],\n",
       "       [ 0.09296888,  0.58943055,  1.14763808],\n",
       "       [-0.31519249, -0.78365788,  0.51006137],\n",
       "       [-1.57168777, -1.02322731,  0.51006137],\n",
       "       [ 1.56889345,  1.19557293,  0.51006137],\n",
       "       [-1.41954309, -1.12884431,  0.51006137],\n",
       "       [-1.62057516, -1.10378093, -0.76509206],\n",
       "       [ 0.91606067,  0.84424715,  1.14763808],\n",
       "       [-0.26734526, -0.95171405,  1.14763808],\n",
       "       [ 1.49432055,  1.62279723,  0.51006137],\n",
       "       [ 0.07136156, -0.58004747,  0.51006137],\n",
       "       [ 1.00043645,  2.17014356,  0.51006137],\n",
       "       [ 0.12190956,  0.5306345 , -1.40266877],\n",
       "       [-0.87180217, -0.58004747, -1.40266877],\n",
       "       [-1.10280662, -0.8606021 , -0.76509206],\n",
       "       [-1.31483618, -1.10378093,  0.51006137],\n",
       "       [-0.09217046,  0.015233  ,  1.14763808],\n",
       "       [ 0.12667301, -0.77603429,  1.14763808],\n",
       "       [-0.30083349, -0.10057126, -1.40266877],\n",
       "       [-0.76691943, -0.95387294, -1.40266877],\n",
       "       [ 0.00881421, -0.56517136,  1.14763808],\n",
       "       [-0.60708232, -0.5219598 ,  0.51006137],\n",
       "       [ 0.23160668,  0.56983186,  0.51006137],\n",
       "       [-0.97594414, -0.57603328,  1.14763808],\n",
       "       [-0.06442885, -0.10057126, -0.76509206],\n",
       "       [ 1.59645703,  1.62279723, -0.76509206],\n",
       "       [ 0.00984831,  0.69939906,  1.14763808],\n",
       "       [ 0.10137558, -0.5219598 ,  0.51006137],\n",
       "       [-1.14766737, -0.7415595 , -0.76509206],\n",
       "       [-1.18060172, -0.5219598 , -1.40266877],\n",
       "       [-0.44949885, -0.7415595 ,  0.51006137],\n",
       "       [-0.389562  , -0.79600403,  0.51006137],\n",
       "       [-0.86914387, -0.69328805,  0.51006137],\n",
       "       [ 1.31454551,  0.56983186,  0.51006137],\n",
       "       [-0.43895183,  0.56983186, -0.76509206],\n",
       "       [-0.29695774, -0.42214483, -1.40266877],\n",
       "       [-0.47818523, -0.69328805,  0.51006137],\n",
       "       [ 2.71819339,  2.21224194,  1.14763808],\n",
       "       [ 0.36595404,  0.6039356 ,  1.14763808],\n",
       "       [ 1.34288076,  1.45329055,  0.51006137],\n",
       "       [ 0.50071619, -0.08495304, -1.40266877],\n",
       "       [-0.53422827, -0.95751607,  0.51006137],\n",
       "       [-0.53610354, -0.08387359,  1.14763808],\n",
       "       [-0.37797671, -0.52125142,  0.51006137],\n",
       "       [ 0.87894775,  1.18939985,  0.51006137],\n",
       "       [ 0.556305  ,  0.56983186, -0.76509206],\n",
       "       [ 0.13179218, -0.56517136,  0.51006137],\n",
       "       [ 0.16040855, -0.08748299,  0.51006137],\n",
       "       [ 0.82125244,  0.52699137, -1.40266877],\n",
       "       [-0.26821345, -1.02285625,  0.51006137],\n",
       "       [ 0.02991533, -0.56517136,  1.14763808],\n",
       "       [ 2.11598813,  2.17014356, -1.40266877],\n",
       "       [-0.20105312,  0.56983186, -0.76509206],\n",
       "       [-1.44395971, -0.70708471, -1.40266877],\n",
       "       [ 0.08657122, -0.66387316,  0.51006137],\n",
       "       [-1.05086869, -1.02285625,  0.51006137],\n",
       "       [-0.83448807, -0.56517136,  1.14763808],\n",
       "       [-0.07992996, -0.56517136,  1.14763808],\n",
       "       [ 1.17172236,  1.11464825,  1.14763808],\n",
       "       [ 0.95968154,  1.62279723, -1.40266877],\n",
       "       [-0.53126152, -0.57603328, -0.76509206],\n",
       "       [ 0.66130118,  1.13205431, -1.40266877],\n",
       "       [-1.46066031, -0.58004747, -1.40266877],\n",
       "       [ 1.5176102 ,  0.90847416,  0.51006137],\n",
       "       [-1.32237334, -0.58004747, -1.40266877],\n",
       "       [-0.12529659, -0.70816415,  1.14763808],\n",
       "       [ 0.14749458, -0.56517136,  1.14763808],\n",
       "       [ 1.09520367,  0.52699137,  1.14763808],\n",
       "       [-1.80012314, -1.25915362, -1.40266877],\n",
       "       [ 0.45604139,  0.59162317, -0.76509206],\n",
       "       [-1.04851508, -0.84791862,  1.14763808],\n",
       "       [ 0.81161202,  1.29501685,  1.14763808],\n",
       "       [-0.53673182, -0.53467702,  1.14763808],\n",
       "       [ 0.59725297,  0.73714592,  0.51006137],\n",
       "       [ 0.07671521, -0.53467702,  0.51006137],\n",
       "       [-0.33398624, -0.5219598 ,  1.14763808],\n",
       "       [-0.38885305, -0.5219598 , -1.40266877],\n",
       "       [-0.51951751, -1.02285625, -0.76509206],\n",
       "       [ 0.23782694,  0.62208377, -0.76509206],\n",
       "       [ 1.19148896,  2.19844528, -1.40266877],\n",
       "       [-0.87580752, -0.69062317,  0.51006137],\n",
       "       [-0.2265245 , -0.49834693, -1.40266877]])"
      ]
     },
     "execution_count": 5,
     "metadata": {},
     "output_type": "execute_result"
    }
   ],
   "source": [
    "from sklearn.preprocessing import StandardScaler\n",
    "\n",
    "scaler = StandardScaler()\n",
    "scaler.fit(x_size)\n",
    "\n",
    "x_scaled = scaler.transform(x_size)\n",
    "x_scaled"
   ]
  },
  {
   "cell_type": "markdown",
   "metadata": {},
   "source": [
    "## Clustering"
   ]
  },
  {
   "cell_type": "code",
   "execution_count": 6,
   "metadata": {},
   "outputs": [],
   "source": [
    "from sklearn.cluster import KMeans"
   ]
  },
  {
   "cell_type": "code",
   "execution_count": 7,
   "metadata": {},
   "outputs": [
    {
     "data": {
      "text/plain": [
       "[299.99999999999994,\n",
       " 161.11258128109972,\n",
       " 94.15259153691234,\n",
       " 67.20234034213998,\n",
       " 49.03538605416731,\n",
       " 41.285070091863986,\n",
       " 35.05542840141086,\n",
       " 31.696330292447758,\n",
       " 28.971469028531356]"
      ]
     },
     "execution_count": 7,
     "metadata": {},
     "output_type": "execute_result"
    }
   ],
   "source": [
    "wcss = []\n",
    "for i in range(1,10):\n",
    "    kmeans = KMeans(i)\n",
    "    kmeans.fit(x_scaled)\n",
    "    wcss.append(kmeans.inertia_)\n",
    "wcss"
   ]
  },
  {
   "cell_type": "code",
   "execution_count": 8,
   "metadata": {},
   "outputs": [
    {
     "data": {
      "image/png": "[encoded data removed]",
      "text/plain": [
       "<Figure size 432x288 with 1 Axes>"
      ]
     },
     "metadata": {},
     "output_type": "display_data"
    }
   ],
   "source": [
    "plt.plot(range(1,10), wcss)\n",
    "plt.title('The Elbow Method')\n",
    "plt.xlabel('Number of clusters')\n",
    "plt.ylabel('Within-cluster Sum of Squares')\n",
    "plt.show()"
   ]
  },
  {
   "cell_type": "code",
   "execution_count": 9,
   "metadata": {},
   "outputs": [
    {
     "data": {
      "text/plain": [
       "KMeans(n_clusters=3)"
      ]
     },
     "execution_count": 9,
     "metadata": {},
     "output_type": "execute_result"
    }
   ],
   "source": [
    "kmeans = KMeans(3)\n",
    "kmeans.fit(x_size)"
   ]
  },
  {
   "cell_type": "code",
   "execution_count": 10,
   "metadata": {},
   "outputs": [],
   "source": [
    "cluster = x_size.copy()\n",
    "cluster['cluster_pred'] = kmeans.fit_predict(x_size)"
   ]
  },
  {
   "cell_type": "code",
   "execution_count": 11,
   "metadata": {},
   "outputs": [
    {
     "data": {
      "image/png": "[encoded data removed]",
      "text/plain": [
       "<Figure size 1080x216 with 2 Axes>"
      ]
     },
     "metadata": {},
     "output_type": "display_data"
    }
   ],
   "source": [
    "f, (ax1, ax2) = plt.subplots(1, 2, sharey = True, figsize = (15, 3))\n",
    "ax1.scatter(cluster['size'], cluster['price'], c = cluster['cluster_pred'], cmap = 'rainbow')\n",
    "ax1.set_title('Price and Size')\n",
    "ax2.scatter(cluster['year'], cluster['price'], c = cluster['cluster_pred'], cmap = 'rainbow')\n",
    "ax2.set_title('Price and Year')\n",
    "plt.show()"
   ]
  },
  {
   "cell_type": "markdown",
   "metadata": {},
   "source": [
    "## Heatmap"
   ]
  },
  {
   "cell_type": "code",
   "execution_count": 12,
   "metadata": {},
   "outputs": [
    {
     "data": {
      "text/plain": [
       "<seaborn.matrix.ClusterGrid at 0x7f4925665c90>"
      ]
     },
     "execution_count": 12,
     "metadata": {},
     "output_type": "execute_result"
    },
    {
     "data": {
      "image/png": "[encoded data removed]",
      "text/plain": [
       "<Figure size 720x720 with 4 Axes>"
      ]
     },
     "metadata": {},
     "output_type": "display_data"
    }
   ],
   "source": [
    "sns.clustermap(x_scaled, cmap = 'mako')"
   ]
  },
  {
   "cell_type": "code",
   "execution_count": null,
   "metadata": {},
   "outputs": [],
   "source": []
  }
 ],
 "metadata": {
  "kernelspec": {
   "display_name": "Python 3",
   "language": "python",
   "name": "python3"
  },
  "language_info": {
   "codemirror_mode": {
    "name": "ipython",
    "version": 3
   },
   "file_extension": ".py",
   "mimetype": "text/x-python",
   "name": "python",
   "nbconvert_exporter": "python",
   "pygments_lexer": "ipython3",
   "version": "3.7.6"
  }
 },
 "nbformat": 4,
 "nbformat_minor": 4
}
