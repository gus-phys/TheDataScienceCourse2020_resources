{
 "cells": [
  {
   "cell_type": "markdown",
   "metadata": {},
   "source": [
    "# Simple Linear Regression"
   ]
  },
  {
   "cell_type": "markdown",
   "metadata": {},
   "source": [
    "# Using the same code as before, please solve the following exercises\n",
    "    1. Change the number of observations to 100,000 and see what happens.\n",
    "    2. Change the number of observations to 1,000,000 and see what happens.\n",
    "    3. Play around with the learning rate. Values like 0.0001, 0.001, 0.1, 1 are all interesting to observe. \n",
    "    4. Change the loss function. L2-norm loss (without dividing by 2) is a good way to start. \n",
    "    5. Тry with the L1-norm loss, given by the sum of the ABSOLUTE value of yj - tj. The L1-norm loss is given by:\n",
    "## $$ \\Sigma_i = |y_i-t_i| $$\n",
    "    6. Create a function f(x,z) = 13*xs + 7*zs - 12. Does the algorithm work in the same way?\n",
    "    \n",
    "    \n",
    "Useful tip: When you change something, don't forget to RERUN all cells. This can be done easily by clicking:\n",
    "Kernel -> Restart & Run All\n",
    "If you don't do that, your algorithm will keep the OLD values of all parameters.\n",
    "\n",
    "You can either use this file for all the exercises, or check the solutions of EACH ONE of them in the separate files we have provided. All other files are solutions of each problem. If you feel confident enough, you can simply change values in this file. Please note that it will be nice, if you return the file to starting position after you have solved a problem, so you can use the lecture as a basis for comparison."
   ]
  },
  {
   "cell_type": "markdown",
   "metadata": {},
   "source": [
    "## Import the relevant libraries"
   ]
  },
  {
   "cell_type": "code",
   "execution_count": 1,
   "metadata": {},
   "outputs": [],
   "source": [
    "import numpy as np\n",
    "import pandas as pd\n",
    "import matplotlib.pyplot as plt\n",
    "from mpl_toolkits.mplot3d import Axes3D"
   ]
  },
  {
   "cell_type": "markdown",
   "metadata": {},
   "source": [
    "## Generate random input data to train on"
   ]
  },
  {
   "cell_type": "code",
   "execution_count": 2,
   "metadata": {},
   "outputs": [
    {
     "name": "stdout",
     "output_type": "stream",
     "text": [
      "(1000, 2)\n"
     ]
    }
   ],
   "source": [
    "observations = 1000\n",
    "xs = np.random.uniform(low = -10, high = 10, size = (observations, 1))\n",
    "zs = np.random.uniform(-10, 10, (observations, 1))\n",
    "inputs = np.column_stack((xs, zs))\n",
    "print(inputs.shape)"
   ]
  },
  {
   "cell_type": "markdown",
   "metadata": {},
   "source": [
    "## Generate the targets we will aim at"
   ]
  },
  {
   "cell_type": "code",
   "execution_count": 3,
   "metadata": {},
   "outputs": [
    {
     "name": "stdout",
     "output_type": "stream",
     "text": [
      "(1000, 1)\n"
     ]
    }
   ],
   "source": [
    "noise = np.random.uniform(-1, 1, (observations, 1))\n",
    "targets = 13*xs + 7*zs - 12 + noise\n",
    "print(targets.shape)"
   ]
  },
  {
   "cell_type": "markdown",
   "metadata": {},
   "source": [
    "## Plot the training data"
   ]
  },
  {
   "cell_type": "code",
   "execution_count": 4,
   "metadata": {},
   "outputs": [
    {
     "data": {
      "image/png": "[encoded data removed]",
      "text/plain": [
       "<Figure size 432x288 with 1 Axes>"
      ]
     },
     "metadata": {
      "needs_background": "light"
     },
     "output_type": "display_data"
    }
   ],
   "source": [
    "targets = targets.reshape(observations, )\n",
    "xs = xs.reshape(observations, )\n",
    "zs = zs.reshape(observations, )\n",
    "\n",
    "fig = plt.figure()\n",
    "\n",
    "ax = fig.add_subplot(111, projection = '3d')\n",
    "ax.plot(xs, zs, targets)\n",
    "\n",
    "ax.set_xlabel('xs')\n",
    "ax.set_ylabel('zs')\n",
    "ax.set_zlabel('Targets')\n",
    "\n",
    "ax.view_init(azim = 100)\n",
    "\n",
    "#plt.rcParams['agg.path.chunksize'] = 10000\n",
    "plt.show()\n",
    "targets = targets.reshape(observations, 1)\n",
    "xs = xs.reshape(observations, 1)\n",
    "zs = zs.reshape(observations, 1)"
   ]
  },
  {
   "cell_type": "markdown",
   "metadata": {},
   "source": [
    "## Initialize variables"
   ]
  },
  {
   "cell_type": "code",
   "execution_count": 5,
   "metadata": {
    "scrolled": true
   },
   "outputs": [
    {
     "name": "stdout",
     "output_type": "stream",
     "text": [
      "[[0.07270198]\n",
      " [0.05173508]]\n",
      "[0.00046854]\n"
     ]
    }
   ],
   "source": [
    "init_range = 0.1\n",
    "weights = np.random.uniform(-init_range, init_range, (2, 1))\n",
    "biases = np.random.uniform(-init_range, init_range, 1)\n",
    "print(weights)\n",
    "print(biases)"
   ]
  },
  {
   "cell_type": "markdown",
   "metadata": {},
   "source": [
    "## Set a learning rate"
   ]
  },
  {
   "cell_type": "code",
   "execution_count": 6,
   "metadata": {},
   "outputs": [],
   "source": [
    "learning_rate = 0.02"
   ]
  },
  {
   "cell_type": "markdown",
   "metadata": {},
   "source": [
    "## Train the model"
   ]
  },
  {
   "cell_type": "code",
   "execution_count": 7,
   "metadata": {},
   "outputs": [
    {
     "name": "stdout",
     "output_type": "stream",
     "text": [
      "3670.5249113038353\n",
      "456.65479574831596\n",
      "108.69125734555104\n",
      "68.53590462036114\n",
      "61.891084469214505\n",
      "59.01583230865498\n",
      "56.644146499195934\n",
      "54.40998167748206\n",
      "52.268981538816035\n",
      "50.21303691032574\n",
      "48.23828076394727\n",
      "46.34145007734688\n",
      "44.519463141111586\n",
      "42.76936602727969\n",
      "41.08832209578188\n",
      "39.47360671937687\n",
      "37.922602786453325\n",
      "36.43279644945117\n",
      "35.00177304925838\n",
      "33.62721320141664\n",
      "32.30688903687495\n",
      "31.038660591085584\n",
      "29.820472335576742\n",
      "28.650349846377964\n",
      "27.526396603899173\n",
      "26.446790919075873\n",
      "25.409782980798788\n",
      "24.41369201984237\n",
      "23.456903584695368\n",
      "22.53786692487866\n",
      "21.655092477508493\n",
      "20.80714945303203\n",
      "19.992663516222006\n",
      "19.210314558671534\n",
      "18.458834559179483\n",
      "17.737005528557763\n",
      "17.04365753552999\n",
      "16.377666810521944\n",
      "15.737953924270068\n",
      "15.123482038296338\n",
      "14.533255224413676\n",
      "13.966316850538337\n",
      "13.42174803019273\n",
      "12.898666133186046\n",
      "12.396223355058424\n",
      "11.913605342970436\n",
      "11.450029875810255\n",
      "11.004745596379731\n",
      "10.577030793604317\n",
      "10.166192232792794\n",
      "9.771564032051508\n",
      "9.39250658303142\n",
      "9.028405514259047\n",
      "8.678670695371045\n",
      "8.342735280638497\n",
      "8.020054790230466\n",
      "7.710106227728205\n",
      "7.412387232459081\n",
      "7.126415265276926\n",
      "6.851726826468681\n",
      "6.587876704520041\n",
      "6.33443725452223\n",
      "6.090997705050685\n",
      "5.857163492391914\n",
      "5.632555621039688\n",
      "5.416810049423984\n",
      "5.209577099877008\n",
      "5.010520891880135\n",
      "4.819318797673046\n",
      "4.635660919342775\n",
      "4.4592495865451\n",
      "4.289798874044298\n",
      "4.127034138289138\n",
      "3.970691572274117\n",
      "3.820517777964466\n",
      "3.676269355591815\n",
      "3.537712509154994\n",
      "3.404622667486422\n",
      "3.2767841202700527\n",
      "3.1539896684208237\n",
      "3.0360402882590507\n",
      "2.92274480893538\n",
      "2.8139196025835007\n",
      "2.709388286698475\n",
      "2.6089814382581795\n",
      "2.512536319124699\n",
      "2.41989661228038\n",
      "2.3309121684712095\n",
      "2.245438762846825\n",
      "2.1633378612027623\n",
      "2.084476395445892\n",
      "2.0087265479194656\n",
      "1.9359655442377852\n",
      "1.8660754542951277\n",
      "1.7989430011260805\n",
      "1.7344593773077126\n",
      "1.672520068605883\n",
      "1.6130246845799094\n",
      "1.5558767958710014\n",
      "1.5009837779108275\n"
     ]
    }
   ],
   "source": [
    "for i in range (100):\n",
    "    \n",
    "    outputs = np.dot(inputs,weights) + biases\n",
    "\n",
    "    deltas = outputs - targets\n",
    "        \n",
    "    loss = np.sum(deltas ** 2) / 2 / observations\n",
    "    #loss = np.sum(deltas)/observations\n",
    "    \n",
    "    print (loss)\n",
    "    \n",
    "    deltas_scaled = deltas / observations\n",
    "    \n",
    "    weights = weights - learning_rate * np.dot(inputs.T,deltas_scaled)\n",
    "    biases = biases - learning_rate * np.sum(deltas_scaled)"
   ]
  },
  {
   "cell_type": "markdown",
   "metadata": {},
   "source": [
    "## Print weights and biases and see if we have worked correctly"
   ]
  },
  {
   "cell_type": "code",
   "execution_count": 8,
   "metadata": {},
   "outputs": [
    {
     "name": "stdout",
     "output_type": "stream",
     "text": [
      "[[13.00230686]\n",
      " [ 6.98140982]] [-10.36177427]\n"
     ]
    }
   ],
   "source": [
    "print(weights, biases)"
   ]
  },
  {
   "cell_type": "markdown",
   "metadata": {},
   "source": [
    "## Plot last outputs vs targets"
   ]
  },
  {
   "cell_type": "code",
   "execution_count": 9,
   "metadata": {
    "scrolled": true
   },
   "outputs": [
    {
     "data": {
      "image/png": "[encoded data removed]",
      "text/plain": [
       "<Figure size 432x288 with 1 Axes>"
      ]
     },
     "metadata": {
      "needs_background": "light"
     },
     "output_type": "display_data"
    }
   ],
   "source": [
    "# A x = y graph to compare\n",
    "y = np.arange(-200, 200, 10)\n",
    "x = y\n",
    "plt.plot(x,y)\n",
    "\n",
    "# The outputs x targets plot\n",
    "plt.plot(outputs, targets)\n",
    "plt.xlabel('outputs')\n",
    "plt.ylabel('targets')\n",
    "#plt.rcParams['agg.path.chunksize'] = 10000\n",
    "plt.show()"
   ]
  },
  {
   "cell_type": "code",
   "execution_count": null,
   "metadata": {},
   "outputs": [],
   "source": []
  }
 ],
 "metadata": {
  "kernelspec": {
   "display_name": "Python 3",
   "language": "python",
   "name": "python3"
  },
  "language_info": {
   "codemirror_mode": {
    "name": "ipython",
    "version": 3
   },
   "file_extension": ".py",
   "mimetype": "text/x-python",
   "name": "python",
   "nbconvert_exporter": "python",
   "pygments_lexer": "ipython3",
   "version": "3.8.5"
  }
 },
 "nbformat": 4,
 "nbformat_minor": 4
}
